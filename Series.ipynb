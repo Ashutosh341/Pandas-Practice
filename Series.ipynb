{
 "cells": [
  {
   "cell_type": "code",
   "execution_count": 134,
   "id": "949d0418",
   "metadata": {},
   "outputs": [],
   "source": [
    "import pandas as pd\n",
    "\n"
   ]
  },
  {
   "cell_type": "code",
   "execution_count": 39,
   "id": "d2ddecd7",
   "metadata": {},
   "outputs": [
    {
     "data": {
      "text/plain": [
       "0    1\n",
       "1    2\n",
       "2    3\n",
       "3    4\n",
       "4    5\n",
       "dtype: int64"
      ]
     },
     "execution_count": 39,
     "metadata": {},
     "output_type": "execute_result"
    }
   ],
   "source": [
    "#Q1:Write a Pandas program to create and display a one-dimensional array-like object containing an array of data using Pandas module\n",
    "df = pd.Series([1,2,3,4,5])\n",
    "df"
   ]
  },
  {
   "cell_type": "code",
   "execution_count": 41,
   "id": "ad36c136",
   "metadata": {},
   "outputs": [
    {
     "name": "stdout",
     "output_type": "stream",
     "text": [
      "[1, 2, 3, 4, 5]\n",
      "<class 'list'>\n"
     ]
    }
   ],
   "source": [
    "#Q2:Write a Pandas program to convert a Panda module Series to Python list and it's type\n",
    "\n",
    "list1=[]\n",
    "for i in df:\n",
    "    list1.append(i)\n",
    "\n",
    "print(list1)\n",
    "print(type(list1))"
   ]
  },
  {
   "cell_type": "code",
   "execution_count": 43,
   "id": "861241aa",
   "metadata": {},
   "outputs": [
    {
     "name": "stdout",
     "output_type": "stream",
     "text": [
      "[1, 2, 3, 4, 5]\n",
      "<class 'list'>\n"
     ]
    }
   ],
   "source": [
    "# Another Way \n",
    "\n",
    "listFromDframe= df.tolist()\n",
    "print(listFromDframe)\n",
    "print(type(listFromDframe))"
   ]
  },
  {
   "cell_type": "code",
   "execution_count": 44,
   "id": "c607f146",
   "metadata": {},
   "outputs": [
    {
     "name": "stdout",
     "output_type": "stream",
     "text": [
      "Original Series S1 0    1\n",
      "1    2\n",
      "2    3\n",
      "3    4\n",
      "4    5\n",
      "dtype: int64\n",
      "\n",
      "\n",
      "Original Series S2 0    1\n",
      "1    2\n",
      "2    3\n",
      "3    4\n",
      "4    5\n",
      "dtype: int64\n"
     ]
    }
   ],
   "source": [
    "#Q3:Write a Pandas program to add, subtract, multiple and divide two Pandas Series\n",
    "\n",
    "s1= pd.Series([1,2,3,4,5])\n",
    "s2=pd.Series([1,2,3,4,5])\n",
    "\n",
    "print(\"Original Series S1\", s1 )\n",
    "print('\\n')\n",
    "print(\"Original Series S2\",s2)"
   ]
  },
  {
   "cell_type": "code",
   "execution_count": 53,
   "id": "f092dcdc",
   "metadata": {},
   "outputs": [
    {
     "name": "stdout",
     "output_type": "stream",
     "text": [
      "Multiplication\n",
      "0    1 \n",
      "1    4 \n",
      "2    9 \n",
      "3    16\n",
      "4    25\n",
      "dtype: int64\n",
      "\n",
      "\n",
      "Addition\n",
      "0    2 \n",
      "1    4 \n",
      "2    6 \n",
      "3    8 \n",
      "4    10\n",
      "dtype: int64\n",
      "\n",
      "\n",
      "Division\n",
      "0    1.0\n",
      "1    1.0\n",
      "2    1.0\n",
      "3    1.0\n",
      "4    1.0\n",
      "dtype: float64\n",
      "\n",
      "\n"
     ]
    }
   ],
   "source": [
    "#Multiplication\n",
    "print('Multiplication')\n",
    "print(s1*s2)\n",
    "print('\\n')\n",
    "print('Addition')\n",
    "print(s1+s2)\n",
    "print('\\n')\n",
    "print('Division')\n",
    "print(s1/s2)\n",
    "print('\\n')"
   ]
  },
  {
   "cell_type": "code",
   "execution_count": 56,
   "id": "4ae85f68",
   "metadata": {},
   "outputs": [
    {
     "name": "stdout",
     "output_type": "stream",
     "text": [
      "comparing two Series::\n",
      "0    False\n",
      "1    True \n",
      "2    False\n",
      "3    False\n",
      "dtype: bool\n"
     ]
    }
   ],
   "source": [
    "#Q4:Write a Pandas program to compare the elements of the two Pandas Series. \n",
    "\n",
    "s1= pd.Series([23,45,67,89])\n",
    "\n",
    "s2= pd.Series([3,45,63,98])\n",
    "\n",
    "print('comparing two Series::')\n",
    "\n",
    "print(s1 == s2)"
   ]
  },
  {
   "cell_type": "code",
   "execution_count": 92,
   "id": "46d4e645",
   "metadata": {},
   "outputs": [
    {
     "data": {
      "text/html": [
       "<div>\n",
       "<style scoped>\n",
       "    .dataframe tbody tr th:only-of-type {\n",
       "        vertical-align: middle;\n",
       "    }\n",
       "\n",
       "    .dataframe tbody tr th {\n",
       "        vertical-align: top;\n",
       "    }\n",
       "\n",
       "    .dataframe thead th {\n",
       "        text-align: right;\n",
       "    }\n",
       "</style>\n",
       "<table border=\"1\" class=\"dataframe\">\n",
       "  <thead>\n",
       "    <tr style=\"text-align: right;\">\n",
       "      <th></th>\n",
       "      <th>A</th>\n",
       "    </tr>\n",
       "  </thead>\n",
       "  <tbody>\n",
       "    <tr>\n",
       "      <th>a</th>\n",
       "      <td>100</td>\n",
       "    </tr>\n",
       "    <tr>\n",
       "      <th>b</th>\n",
       "      <td>200</td>\n",
       "    </tr>\n",
       "    <tr>\n",
       "      <th>c</th>\n",
       "      <td>300</td>\n",
       "    </tr>\n",
       "    <tr>\n",
       "      <th>d</th>\n",
       "      <td>400</td>\n",
       "    </tr>\n",
       "    <tr>\n",
       "      <th>e</th>\n",
       "      <td>800</td>\n",
       "    </tr>\n",
       "  </tbody>\n",
       "</table>\n",
       "</div>"
      ],
      "text/plain": [
       "     A\n",
       "a  100\n",
       "b  200\n",
       "c  300\n",
       "d  400\n",
       "e  800"
      ]
     },
     "execution_count": 92,
     "metadata": {},
     "output_type": "execute_result"
    }
   ],
   "source": [
    "#Q5:Write a Pandas program to convert a dictionary to a Pandas series.\n",
    "\n",
    "dict1 = {'a': 100, 'b': 200, 'c': 300, 'd': 400, 'e': 800}\n",
    "\n",
    "s1= pd.DataFrame.from_dict(dict1,orient='index',columns=['A'])  # Set Orient = 'index' to use keys of dict1 as index\n",
    "s1\n",
    "\n",
    "# pd.Series(dict1) we can also use this "
   ]
  },
  {
   "cell_type": "code",
   "execution_count": 96,
   "id": "d72435cb",
   "metadata": {},
   "outputs": [
    {
     "data": {
      "text/plain": [
       "0    10\n",
       "1    20\n",
       "2    30\n",
       "3    40\n",
       "4    50\n",
       "dtype: int64"
      ]
     },
     "execution_count": 96,
     "metadata": {},
     "output_type": "execute_result"
    }
   ],
   "source": [
    "#Q6:Write a Pandas program to convert a NumPy array to a Pandas series\n",
    "\n",
    "import numpy as np\n",
    "\n",
    "array= [10, 20, 30, 40 ,50]\n",
    "\n",
    "s1=pd.Series(array)\n",
    "s1"
   ]
  },
  {
   "cell_type": "code",
   "execution_count": 132,
   "id": "ad9113ba",
   "metadata": {},
   "outputs": [
    {
     "name": "stdout",
     "output_type": "stream",
     "text": [
      "Before ::: object\n",
      "After ::: float64\n"
     ]
    }
   ],
   "source": [
    "#Q7:7. Write a Pandas program to change the data type of given a column or a Series\n",
    "\n",
    "\n",
    "\n",
    "s1=pd.Series([100,'200','python','300','400'])\n",
    "print(\"Before :::\",s1.dtypes)\n",
    "\n",
    "\n",
    "s1=pd.to_numeric(s1,errors='coerce')\n",
    "print(\"After :::\",s1.dtypes)\n",
    "\n"
   ]
  },
  {
   "cell_type": "code",
   "execution_count": 142,
   "id": "f5e25c18",
   "metadata": {},
   "outputs": [
    {
     "name": "stdout",
     "output_type": "stream",
     "text": [
      "<class 'pandas.core.series.Series'>\n"
     ]
    }
   ],
   "source": [
    "#Q8:8. Write a Pandas program to convert the first column of a DataFrame as a Series\n",
    "\n",
    "df = pd.DataFrame({'col1':[1,2,3,4,5],'col2':[4,5,6,7,8],'col3':[12,45,56,32,11]})\n",
    "\n",
    "s1=df['col1']\n",
    "print(type(s1))\n",
    "\n"
   ]
  },
  {
   "cell_type": "code",
   "execution_count": 153,
   "id": "6005dd8f",
   "metadata": {},
   "outputs": [
    {
     "data": {
      "text/plain": [
       "array([10, 20, 30, 40, 50], dtype=int64)"
      ]
     },
     "execution_count": 153,
     "metadata": {},
     "output_type": "execute_result"
    }
   ],
   "source": [
    "#Q9: Write a Pandas program to convert a given Series to an array\n",
    "\n",
    "s1= pd.Series([10, 20, 30, 40 ,50])\n",
    "\n",
    "array=s1.to_numpy()\n",
    "array\n"
   ]
  },
  {
   "cell_type": "code",
   "execution_count": 172,
   "id": "55e98430",
   "metadata": {},
   "outputs": [
    {
     "name": "stdout",
     "output_type": "stream",
     "text": [
      "Original Series :\n",
      "0    [Red, Green, White]\n",
      "1    [Red, Black]       \n",
      "2    [yellow]           \n",
      "dtype: object\n",
      "\n",
      "\n",
      "single Series\n"
     ]
    },
    {
     "data": {
      "text/plain": [
       "0    Red   \n",
       "1    Green \n",
       "2    White \n",
       "3    Red   \n",
       "4    Black \n",
       "5    yellow\n",
       "dtype: object"
      ]
     },
     "execution_count": 172,
     "metadata": {},
     "output_type": "execute_result"
    }
   ],
   "source": [
    "#Q10. Write a Pandas program to convert Series of lists to one Series\n",
    "\n",
    "s1=pd.Series([['Red', 'Green', 'White'],['Red','Black'],['yellow']])\n",
    "\n",
    "print('Original Series :')\n",
    "print(s1)\n",
    "\n",
    "print('\\n')\n",
    "print('single Series')\n",
    "s1 = s1.apply(pd.Series).stack().reset_index(drop=True)\n",
    "s1"
   ]
  },
  {
   "cell_type": "code",
   "execution_count": 199,
   "id": "60faea67",
   "metadata": {},
   "outputs": [
    {
     "data": {
      "text/plain": [
       "0    1     \n",
       "3    10    \n",
       "1    3     \n",
       "4    5     \n",
       "2    python\n",
       "dtype: object"
      ]
     },
     "execution_count": 199,
     "metadata": {},
     "output_type": "execute_result"
    }
   ],
   "source": [
    "#Q11. Write a Pandas program to sort a given Series\n",
    "\n",
    "s1 = pd.Series(['1','3','python','10','5'])\n",
    "\n",
    "s1.sort_values(ascending=True)\n"
   ]
  },
  {
   "cell_type": "code",
   "execution_count": 217,
   "id": "39047450",
   "metadata": {},
   "outputs": [
    {
     "data": {
      "text/plain": [
       "0    1     \n",
       "1    3     \n",
       "2    python\n",
       "3    10    \n",
       "4    5     \n",
       "5    22    \n",
       "0    php   \n",
       "1    java  \n",
       "dtype: object"
      ]
     },
     "execution_count": 217,
     "metadata": {},
     "output_type": "execute_result"
    }
   ],
   "source": [
    "#Q12. Write a Pandas program to add some data to an existing Series\n",
    "\n",
    "s1 = pd.Series(['1','3','python','10','5'])\n",
    "\n",
    "s1[5]='22'\n",
    "s1=s1.append(pd.Series(['php','java']))\n",
    "s1"
   ]
  },
  {
   "cell_type": "code",
   "execution_count": 229,
   "id": "43716899",
   "metadata": {},
   "outputs": [
    {
     "data": {
      "text/plain": [
       "0    0\n",
       "1    1\n",
       "2    2\n",
       "3    3\n",
       "4    4\n",
       "5    5\n",
       "6    6\n",
       "dtype: int64"
      ]
     },
     "execution_count": 229,
     "metadata": {},
     "output_type": "execute_result"
    }
   ],
   "source": [
    "#Q13. Write a Pandas program to create a subset of a given series based on value and condition\n",
    "\n",
    "s1=pd.Series([0,1,2,3,4,5,6,7,8,9,10])\n",
    "\n",
    "s1=s1.loc[s1 < 7] #getting only first 7 values\n",
    "s1"
   ]
  },
  {
   "cell_type": "code",
   "execution_count": 232,
   "id": "6ffcefa1",
   "metadata": {},
   "outputs": [
    {
     "name": "stdout",
     "output_type": "stream",
     "text": [
      "Original Order\n",
      "A    1\n",
      "B    2\n",
      "C    3\n",
      "D    4\n",
      "E    5\n",
      "dtype: int64\n",
      "Data Series after changing the order of index:\n",
      "B    2\n",
      "A    1\n",
      "C    3\n",
      "D    4\n",
      "E    5\n",
      "dtype: int64\n"
     ]
    }
   ],
   "source": [
    "#Q14:Write a Pandas program to change the order of index of a given series.\n",
    "\n",
    "s = pd.Series(data = [1,2,3,4,5], index = ['A', 'B', 'C','D','E'])\n",
    "print('Original Order')\n",
    "print(s)\n",
    "\n",
    "s = s.reindex(index = ['B','A','C','D','E'])\n",
    "print(\"Data Series after changing the order of index:\")\n",
    "print(s)"
   ]
  },
  {
   "cell_type": "code",
   "execution_count": 236,
   "id": "b36f9d53",
   "metadata": {},
   "outputs": [
    {
     "name": "stdout",
     "output_type": "stream",
     "text": [
      "5.5\n",
      "3.0276503540974917\n"
     ]
    }
   ],
   "source": [
    "#Q15:Write a Pandas program to create the mean and standard deviation of the data of a given Series\n",
    "\n",
    "s = pd.Series(data = [1,2,3,4,5,6,7,8,9,10])\n",
    "print(s.mean())\n",
    "print(s.std())"
   ]
  },
  {
   "cell_type": "code",
   "execution_count": 250,
   "id": "33c8d311",
   "metadata": {},
   "outputs": [
    {
     "data": {
      "text/plain": [
       "0    1\n",
       "1    2\n",
       "4    5\n",
       "dtype: int64"
      ]
     },
     "execution_count": 250,
     "metadata": {},
     "output_type": "execute_result"
    }
   ],
   "source": [
    "#Q16: Write a Pandas program to get the items of a given series not present in another given series\n",
    "\n",
    "\n",
    "s1=pd.Series([1,2,3,4,5])\n",
    "\n",
    "s2=pd.Series([11,22,3,4,55])\n",
    "\n",
    "s1[~s1.isin(s2)]  #  s1 items which are not present in s1:::::: isin"
   ]
  },
  {
   "cell_type": "code",
   "execution_count": 258,
   "id": "020f4092",
   "metadata": {},
   "outputs": [
    {
     "name": "stdout",
     "output_type": "stream",
     "text": [
      "0    1 \n",
      "1    2 \n",
      "4    5 \n",
      "5    11\n",
      "6    22\n",
      "7    55\n",
      "dtype: int64\n"
     ]
    }
   ],
   "source": [
    "#Q17. Write a Pandas program to get the items which are not common of two given series\n",
    "\n",
    "sr1=pd.Series([1,2,3,4,5])\n",
    "\n",
    "sr2=pd.Series([11,22,3,4,55])\n",
    "\n",
    "sr11 = pd.Series(np.union1d(sr1, sr2))\n",
    "sr22 = pd.Series(np.intersect1d(sr1, sr2))\n",
    "result = sr11[~sr11.isin(sr22)]\n",
    "print(result)"
   ]
  },
  {
   "cell_type": "code",
   "execution_count": 268,
   "id": "0bb0182e",
   "metadata": {},
   "outputs": [
    {
     "name": "stdout",
     "output_type": "stream",
     "text": [
      "count    6.000000 \n",
      "mean     10.659370\n",
      "std      4.247050 \n",
      "min      3.000938 \n",
      "25%      9.585373 \n",
      "50%      11.713798\n",
      "75%      13.458181\n",
      "max      14.612143\n",
      "dtype: float64\n",
      "[ 3.000938   9.5853725 11.7137985 13.458181  14.612143 ]\n"
     ]
    }
   ],
   "source": [
    "#Q18:Write a Pandas program to compute the minimum, 25th percentile, median, 75th, and maximum of a given series\n",
    "\n",
    "\n",
    "s1=pd.Series([3.000938,11.370722,14.612143,8.990256,13.925283,12.056875])\n",
    "print(s1.describe())\n",
    "\n",
    "result = np.percentile(s1,q=[0,25,50,75,100])\n",
    "print(result)"
   ]
  },
  {
   "cell_type": "code",
   "execution_count": 269,
   "id": "33541844",
   "metadata": {},
   "outputs": [
    {
     "data": {
      "text/plain": [
       "1     4\n",
       "23    3\n",
       "2     2\n",
       "3     2\n",
       "4     2\n",
       "5     2\n",
       "89    2\n",
       "6     1\n",
       "78    1\n",
       "45    1\n",
       "22    1\n",
       "90    1\n",
       "dtype: int64"
      ]
     },
     "execution_count": 269,
     "metadata": {},
     "output_type": "execute_result"
    }
   ],
   "source": [
    "#Q19. Write a Pandas program to calculate the frequency counts of each unique value of a given series\n",
    "\n",
    "s = pd.Series([1,2,3,4,5,1,1,2,3,4,5,6,78,23,45,23,23,22,1,89,90,89])\n",
    "\n",
    "s.value_counts()"
   ]
  },
  {
   "cell_type": "code",
   "execution_count": 325,
   "id": "eac9ae99",
   "metadata": {},
   "outputs": [
    {
     "name": "stdout",
     "output_type": "stream",
     "text": [
      "0    1 \n",
      "1    90\n",
      "dtype: int64\n"
     ]
    },
    {
     "data": {
      "text/plain": [
       "0     1    \n",
       "1     Other\n",
       "2     Other\n",
       "3     Other\n",
       "4     Other\n",
       "5     1    \n",
       "6     1    \n",
       "7     Other\n",
       "8     Other\n",
       "9     Other\n",
       "10    Other\n",
       "11    Other\n",
       "12    Other\n",
       "13    Other\n",
       "14    Other\n",
       "15    Other\n",
       "16    Other\n",
       "17    Other\n",
       "18    1    \n",
       "19    Other\n",
       "20    90   \n",
       "21    Other\n",
       "22    90   \n",
       "23    90   \n",
       "24    90   \n",
       "25    90   \n",
       "26    90   \n",
       "27    1    \n",
       "28    1    \n",
       "dtype: object"
      ]
     },
     "execution_count": 325,
     "metadata": {},
     "output_type": "execute_result"
    }
   ],
   "source": [
    "#Q20. Write a Pandas program to display most frequent value in a given series and replace everything else as 'Other' in the series\n",
    "\n",
    "s = pd.Series([1,2,3,4,5,1,1,2,3,4,5,6,78,23,45,23,23,22,1,89,90,89,90,90,90,90,90,1,1])\n",
    "\n",
    "print(s.mode())\n",
    "\n",
    "\n",
    "s.loc[(s!=1) & (s!=90)] = 'Other' # here first i am getting those rows where value != 1 and then converting all those to \"Other\" \n",
    "s"
   ]
  },
  {
   "cell_type": "code",
   "execution_count": 331,
   "id": "a475ffdd",
   "metadata": {},
   "outputs": [
    {
     "name": "stdout",
     "output_type": "stream",
     "text": [
      "(array([ 1,  2,  7,  8, 10], dtype=int64),)\n"
     ]
    }
   ],
   "source": [
    "#Q21. Write a Pandas program to find the positions of numbers that are multiples of 5 of a given series.\n",
    "\n",
    "s= pd.Series([1,5,10,3,4,6,7,15,20,43,45])\n",
    "\n",
    "result= np.where(s%5==0)\n",
    "print(result)"
   ]
  },
  {
   "cell_type": "code",
   "execution_count": 343,
   "id": "0e839d1d",
   "metadata": {},
   "outputs": [
    {
     "data": {
      "text/plain": [
       "5     6 \n",
       "10    45\n",
       "dtype: int64"
      ]
     },
     "execution_count": 343,
     "metadata": {},
     "output_type": "execute_result"
    }
   ],
   "source": [
    "#Q22: Write a Pandas program to extract items at given positions of a given series\n",
    "\n",
    "s= pd.Series([1,5,10,3,4,6,7,15,20,43,45])\n",
    "\n",
    "s.take([5,10]) # take method used to extract elements from a given index"
   ]
  },
  {
   "cell_type": "code",
   "execution_count": 373,
   "id": "edbf1327",
   "metadata": {},
   "outputs": [
    {
     "name": "stdout",
     "output_type": "stream",
     "text": [
      "[0, 6, 8, 3, 2]\n"
     ]
    }
   ],
   "source": [
    "#Q23. Write a Pandas program to get the positions of items of a given series in another given series\n",
    "\n",
    "s1= pd.Series([1,5,10,3,4])\n",
    "\n",
    "s2= pd.Series([1,11,4,3,23,25,5,23,10])\n",
    "\n",
    "result=[pd.Index(s2).get_loc(i) for i in s1]  #positions of series 1 elements in series 2\n",
    "\n",
    "\n",
    "print(result)"
   ]
  },
  {
   "cell_type": "code",
   "execution_count": 368,
   "id": "438364bf",
   "metadata": {},
   "outputs": [
    {
     "data": {
      "text/plain": [
       "1"
      ]
     },
     "execution_count": 368,
     "metadata": {},
     "output_type": "execute_result"
    }
   ],
   "source": [
    "# s= pd.Series([1,5,10,3,4,6,7,15,20,43,45,5])  couple of methods to find the index of a value\n",
    "\n",
    "# list(s).index(5)\n",
    "\n",
    "# s[s==5].index[0]"
   ]
  },
  {
   "cell_type": "code",
   "execution_count": 389,
   "id": "d2a88352",
   "metadata": {},
   "outputs": [
    {
     "data": {
      "text/plain": [
       "0    AshutosH\n",
       "1    SharmA  \n",
       "2    AnkiT   \n",
       "3    KapooR  \n",
       "dtype: object"
      ]
     },
     "execution_count": 389,
     "metadata": {},
     "output_type": "execute_result"
    }
   ],
   "source": [
    "#Q24. Write a Pandas program convert the first and last character of each word to upper case in each word of a given series\n",
    "\n",
    "s= pd.Series(['ashutosh','sharma','ankit','kapoor'])\n",
    "\n",
    "s=s.apply(lambda x:x[0].upper() + x[1:-1] + x[-1].upper() )\n",
    "s"
   ]
  },
  {
   "cell_type": "code",
   "execution_count": 392,
   "id": "618b1e45",
   "metadata": {},
   "outputs": [
    {
     "data": {
      "text/plain": [
       "[-2, -2, -3, -2, -1, -4]"
      ]
     },
     "execution_count": 392,
     "metadata": {},
     "output_type": "execute_result"
    }
   ],
   "source": [
    "#Q26. Write a Pandas program to compute difference of differences between consecutive numbers of a given series.\n",
    "\n",
    "s=pd.Series([1,3,5,8,10,11,15])\n",
    "\n",
    "list1=[]\n",
    "\n",
    "for i in range(0,len(s)-1):\n",
    "    result=(s[i]-s[i+1])\n",
    "    list1.append(result)\n",
    "list1\n",
    "\n",
    "# or we can also use s.diff() , simple right!!!"
   ]
  },
  {
   "cell_type": "code",
   "execution_count": 396,
   "id": "8153ceca",
   "metadata": {},
   "outputs": [
    {
     "name": "stdout",
     "output_type": "stream",
     "text": [
      "Original Series:\n",
      "0    11 Jan 2015     \n",
      "1    10-02-2016      \n",
      "2    20180307        \n",
      "3    2014/05/06      \n",
      "4    2016-04-12      \n",
      "5    2019-04-06 11:20\n",
      "dtype: object\n",
      "\n",
      "Series of date strings to a timeseries:\n",
      "0   2015-01-11 00:00:00\n",
      "1   2016-10-02 00:00:00\n",
      "2   2018-03-07 00:00:00\n",
      "3   2014-05-06 00:00:00\n",
      "4   2016-04-12 00:00:00\n",
      "5   2019-04-06 11:20:00\n",
      "dtype: datetime64[ns]\n"
     ]
    }
   ],
   "source": [
    "#Q27. Write a Pandas program to convert a series of date strings to a timeseries\n",
    "\n",
    "date_series = pd.Series(['11 Jan 2015', '10-02-2016', '20180307', '2014/05/06', '2016-04-12', '2019-04-06 11:20'])\n",
    "print(\"Original Series:\")\n",
    "print(date_series)\n",
    "print(\"\\nSeries of date strings to a timeseries:\")\n",
    "print(pd.to_datetime(date_series))"
   ]
  },
  {
   "cell_type": "code",
   "execution_count": 406,
   "id": "1526e5f3",
   "metadata": {},
   "outputs": [
    {
     "name": "stdout",
     "output_type": "stream",
     "text": [
      "0    2015\n",
      "1    2016\n",
      "2    2018\n",
      "3    2014\n",
      "4    2016\n",
      "5    2019\n",
      "dtype: int64\n",
      "0    1 \n",
      "1    10\n",
      "2    3 \n",
      "3    5 \n",
      "4    4 \n",
      "5    4 \n",
      "dtype: int64\n",
      "0    11 \n",
      "1    276\n",
      "2    66 \n",
      "3    126\n",
      "4    103\n",
      "5    96 \n",
      "dtype: int64\n"
     ]
    }
   ],
   "source": [
    "#Q28.Write a Pandas program to get  day of month, day of year, week number and day of week from a given series of date strings\n",
    "\n",
    "date_series = pd.Series(['11 Jan 2015', '10-02-2016', '20180307', '2014/05/06', '2016-04-12', '2019-04-06 11:20'])\n",
    "\n",
    "date_series=pd.to_datetime(date_series)\n",
    "print(date_series.dt.year)\n",
    "print(date_series.dt.month)\n",
    "print(date_series.dt.day_of_year)\n"
   ]
  },
  {
   "cell_type": "code",
   "execution_count": 428,
   "id": "eaf63a3c",
   "metadata": {},
   "outputs": [
    {
     "data": {
      "text/plain": [
       "0   2015-01-01\n",
       "1   2016-02-01\n",
       "2   2017-03-01\n",
       "3   2018-04-01\n",
       "4   2019-05-01\n",
       "dtype: datetime64[ns]"
      ]
     },
     "execution_count": 428,
     "metadata": {},
     "output_type": "execute_result"
    }
   ],
   "source": [
    "#Q29. Write a Pandas program to convert year-month string to dates adding a specified day of the month\n",
    "\n",
    "date_series = pd.Series(['Jan 2015', 'Feb 2016', 'Mar 2017', 'Apr 2018', 'May 2019'])\n",
    "\n",
    "date_series=pd.to_datetime(date_series)\n",
    "\n",
    "date_series\n",
    "\n"
   ]
  },
  {
   "cell_type": "code",
   "execution_count": 448,
   "id": "4c8ab372",
   "metadata": {},
   "outputs": [
    {
     "name": "stdout",
     "output_type": "stream",
     "text": [
      "0    Ashutoshe\n",
      "4    Idiot    \n",
      "5    Education\n",
      "dtype: object\n"
     ]
    }
   ],
   "source": [
    "#Q30. Write a Pandas program to filter words from a given series that contain atleast two vowels\n",
    "from collections import Counter\n",
    "series =pd.Series(['Ashutoshe','XXXXX','ZZZZZZ','WWWWWWW','Idiot','Education'])\n",
    "\n",
    "\n",
    " \n",
    "result = series.map(lambda c: sum([Counter(c.lower()).get(i, 0)\n",
    "                                   for i in list('aeiou')]) >= 2)\n",
    " \n",
    "print(series[result])"
   ]
  },
  {
   "cell_type": "code",
   "execution_count": 450,
   "id": "a4848624",
   "metadata": {},
   "outputs": [
    {
     "name": "stdout",
     "output_type": "stream",
     "text": [
      "16.492422502470642\n"
     ]
    }
   ],
   "source": [
    "#Q31. Write a Pandas program to compute the Euclidean distance between two given series.\n",
    "\n",
    "\n",
    "x = pd.Series([1, 2, 3, 4, 5, 6, 7, 8, 9, 10])\n",
    "y = pd.Series([11, 8, 7, 5, 6, 5, 3, 4, 7, 1])\n",
    "\n",
    "\n",
    "print(np.linalg.norm(x-y))"
   ]
  },
  {
   "cell_type": "code",
   "execution_count": 463,
   "id": "ea2ec714",
   "metadata": {},
   "outputs": [
    {
     "name": "stdout",
     "output_type": "stream",
     "text": [
      "\n",
      "Positions of the values surrounded by smaller values on both sides:\n",
      "[1 4 8]\n"
     ]
    }
   ],
   "source": [
    "#Q32. Write a Pandas program to find the positions of the values neighboured by smaller values on both sides in a given series\n",
    "\n",
    "nums = pd.Series([1, 8, 7, 5, 6, 5, 3, 4, 7, 1])\n",
    "\n",
    "print(\"\\nPositions of the values surrounded by smaller values on both sides:\")\n",
    "temp = np.diff(np.sign(np.diff(nums)))\n",
    "result = np.where(temp == -2)[0] + 1\n",
    "print(result)"
   ]
  },
  {
   "cell_type": "code",
   "execution_count": 476,
   "id": "41de6ccc",
   "metadata": {},
   "outputs": [
    {
     "name": "stdout",
     "output_type": "stream",
     "text": [
      "HellotMytnametistAshutosh\n"
     ]
    }
   ],
   "source": [
    "#Q33. Write a Pandas program to replace missing white spaces in a given string with the least frequent character\n",
    "\n",
    "string1=pd.Series(list('Hello My name is Ashutosh'))\n",
    "\n",
    "element_freq = string1.value_counts()\n",
    "current_freq = element_freq.dropna().index[-1]\n",
    "result = \"\".join(string1.replace(' ',current_freq))\n",
    " \n",
    "print(result)"
   ]
  },
  {
   "cell_type": "code",
   "execution_count": 480,
   "id": "e3ef109c",
   "metadata": {},
   "outputs": [
    {
     "name": "stdout",
     "output_type": "stream",
     "text": [
      "All Sundays of 2019:\n",
      "0    2019-01-06\n",
      "1    2019-01-13\n",
      "2    2019-01-20\n",
      "3    2019-01-27\n",
      "4    2019-02-03\n",
      "5    2019-02-10\n",
      "6    2019-02-17\n",
      "7    2019-02-24\n",
      "8    2019-03-03\n",
      "9    2019-03-10\n",
      "10   2019-03-17\n",
      "11   2019-03-24\n",
      "12   2019-03-31\n",
      "13   2019-04-07\n",
      "14   2019-04-14\n",
      "15   2019-04-21\n",
      "16   2019-04-28\n",
      "17   2019-05-05\n",
      "18   2019-05-12\n",
      "19   2019-05-19\n",
      "20   2019-05-26\n",
      "21   2019-06-02\n",
      "22   2019-06-09\n",
      "23   2019-06-16\n",
      "24   2019-06-23\n",
      "25   2019-06-30\n",
      "26   2019-07-07\n",
      "27   2019-07-14\n",
      "28   2019-07-21\n",
      "29   2019-07-28\n",
      "30   2019-08-04\n",
      "31   2019-08-11\n",
      "32   2019-08-18\n",
      "33   2019-08-25\n",
      "34   2019-09-01\n",
      "35   2019-09-08\n",
      "36   2019-09-15\n",
      "37   2019-09-22\n",
      "38   2019-09-29\n",
      "39   2019-10-06\n",
      "40   2019-10-13\n",
      "41   2019-10-20\n",
      "42   2019-10-27\n",
      "43   2019-11-03\n",
      "44   2019-11-10\n",
      "45   2019-11-17\n",
      "46   2019-11-24\n",
      "47   2019-12-01\n",
      "48   2019-12-08\n",
      "49   2019-12-15\n",
      "50   2019-12-22\n",
      "51   2019-12-29\n",
      "dtype: datetime64[ns]\n"
     ]
    }
   ],
   "source": [
    "#Q35. Write a Pandas program to create a TimeSeries to display all the Sundays of given year\n",
    "\n",
    "result = pd.Series(pd.date_range('2019-01-01', periods=52, freq='W-SUN'))\n",
    "print(\"All Sundays of 2019:\")\n",
    "print(result)"
   ]
  },
  {
   "cell_type": "code",
   "execution_count": 483,
   "id": "13b2e71c",
   "metadata": {},
   "outputs": [
    {
     "name": "stdout",
     "output_type": "stream",
     "text": [
      "\n",
      "Stack two given series vertically and horizontally:\n",
      "   0  1\n",
      "0  0  p\n",
      "1  1  q\n",
      "2  2  r\n",
      "3  3  s\n",
      "4  4  t\n",
      "5  5  u\n",
      "6  6  v\n",
      "7  7  w\n",
      "8  8  x\n",
      "9  9  y\n"
     ]
    }
   ],
   "source": [
    "#Q37. Write a Pandas program to stack two given series vertically and horizontally\n",
    "\n",
    "series1 = pd.Series(range(10))\n",
    "series2 = pd.Series(list('pqrstuvwxy'))\n",
    "\n",
    "df = pd.concat([series1, series2], axis=1)\n",
    "print(\"\\nStack two given series vertically and horizontally:\")\n",
    "print(df)"
   ]
  },
  {
   "cell_type": "code",
   "execution_count": 494,
   "id": "7189be97",
   "metadata": {},
   "outputs": [
    {
     "name": "stdout",
     "output_type": "stream",
     "text": [
      "Min 8\n",
      "Max 3\n"
     ]
    }
   ],
   "source": [
    "#Q39. Write a Pandas program to find the index of the first occurrence of the smallest and largest value of a given series\n",
    "\n",
    "s=pd.Series([3,7,12,88,23,3,1,9,0])\n",
    "\n",
    "min_s=s.min()\n",
    "max_s=s.max()\n",
    "\n",
    "print('Min',s.idxmin())\n",
    "print('Max',s.idxmax())\n",
    "\n"
   ]
  },
  {
   "cell_type": "code",
   "execution_count": null,
   "id": "3531e9d3",
   "metadata": {},
   "outputs": [],
   "source": []
  }
 ],
 "metadata": {
  "kernelspec": {
   "display_name": "Python 3 (ipykernel)",
   "language": "python",
   "name": "python3"
  },
  "language_info": {
   "codemirror_mode": {
    "name": "ipython",
    "version": 3
   },
   "file_extension": ".py",
   "mimetype": "text/x-python",
   "name": "python",
   "nbconvert_exporter": "python",
   "pygments_lexer": "ipython3",
   "version": "3.10.0"
  }
 },
 "nbformat": 4,
 "nbformat_minor": 5
}
